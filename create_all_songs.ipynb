{
 "cells": [
  {
   "cell_type": "code",
   "execution_count": 1,
   "metadata": {},
   "outputs": [],
   "source": [
    "# load packages\n",
    "import os\n",
    "from build_chord_chart_function import build_chord_chart # from my music_keys_final.py file\n"
   ]
  },
  {
   "cell_type": "code",
   "execution_count": 2,
   "metadata": {},
   "outputs": [],
   "source": [
    "# define a function to either run all songs for all keys, or specify songs or keys\n",
    "\n",
    "def create_chord_charts(songs, keys = ['C', 'F', 'Bb', 'Eb', 'Ab', 'Db', 'Gb', 'Cb', \n",
    "                                       'G', 'D', 'A', 'E', 'B', 'F#', 'C#']):\n",
    "    \n",
    "    # by default the function will include 15 keys (all keys that don't require double sharps or flats)\n",
    "    \n",
    "    for song in songs:\n",
    "        for key in keys:\n",
    "            print('Printing \\\"' + song + '\\\" in new key of ' + key + '.')\n",
    "            build_chord_chart(song, key)\n",
    "\n",
    "    print()\n",
    "    "
   ]
  },
  {
   "cell_type": "code",
   "execution_count": 4,
   "metadata": {
    "scrolled": true
   },
   "outputs": [
    {
     "data": {
      "text/plain": [
       "['All Creatures of our God and King chords - D.txt',\n",
       " 'All I Have Is Christ chords - C.txt',\n",
       " 'Anthem chords - Bb.txt',\n",
       " 'Before the Throne chords - Eb.txt',\n",
       " 'Behold our God chords - B.txt',\n",
       " 'Cornerstone chords - C.txt',\n",
       " 'Forever chords - Ab.txt',\n",
       " 'Hallelujah for the Cross chords - F.txt',\n",
       " 'He Will Hold Me Fast chords - G.txt',\n",
       " 'Holy chords - Bb.txt',\n",
       " 'Just the Cross chords - A.txt',\n",
       " 'King of Kings chords - D.txt',\n",
       " 'Mighty Cross chords - G.txt',\n",
       " 'Nothing but the Blood chords - E.txt',\n",
       " 'Only God chords - G.txt',\n",
       " 'Only a Holy God chords - D.txt',\n",
       " 'Praise the King chords - B.txt',\n",
       " 'Redeemed by the Blood of the Lamb chords - F#.txt',\n",
       " 'What Mercy Did For Me chords - E.txt']"
      ]
     },
     "execution_count": 4,
     "metadata": {},
     "output_type": "execute_result"
    }
   ],
   "source": [
    "# get list of all songs in the txt_input_files folder\n",
    "songs = sorted([s for s in os.listdir('/Users/Jonathan/Desktop/oaks_music/txt_input_files/') if s.endswith('.txt')])\n",
    "songs"
   ]
  },
  {
   "cell_type": "code",
   "execution_count": 6,
   "metadata": {},
   "outputs": [
    {
     "name": "stdout",
     "output_type": "stream",
     "text": [
      "Printing \"Before the Throne chords - Eb.txt\" in new key of C.\n",
      "Success\n",
      "Printing \"Before the Throne chords - Eb.txt\" in new key of F.\n",
      "Success\n",
      "Printing \"Before the Throne chords - Eb.txt\" in new key of Bb.\n",
      "Success\n",
      "Printing \"Before the Throne chords - Eb.txt\" in new key of Eb.\n",
      "Success\n",
      "Printing \"Before the Throne chords - Eb.txt\" in new key of Ab.\n",
      "Success\n",
      "Printing \"Before the Throne chords - Eb.txt\" in new key of Db.\n",
      "Success\n",
      "Printing \"Before the Throne chords - Eb.txt\" in new key of Gb.\n",
      "Success\n",
      "Printing \"Before the Throne chords - Eb.txt\" in new key of Cb.\n",
      "Success\n",
      "Printing \"Before the Throne chords - Eb.txt\" in new key of G.\n",
      "Success\n",
      "Printing \"Before the Throne chords - Eb.txt\" in new key of D.\n",
      "Success\n",
      "Printing \"Before the Throne chords - Eb.txt\" in new key of A.\n",
      "Success\n",
      "Printing \"Before the Throne chords - Eb.txt\" in new key of E.\n",
      "Success\n",
      "Printing \"Before the Throne chords - Eb.txt\" in new key of B.\n",
      "Success\n",
      "Printing \"Before the Throne chords - Eb.txt\" in new key of F#.\n",
      "Success\n",
      "Printing \"Before the Throne chords - Eb.txt\" in new key of C#.\n",
      "Success\n",
      "\n"
     ]
    }
   ],
   "source": [
    "# run chords on just one song\n",
    "create_chord_charts(songs=['Before the Throne chords - Eb.txt'])"
   ]
  },
  {
   "cell_type": "code",
   "execution_count": null,
   "metadata": {},
   "outputs": [],
   "source": []
  }
 ],
 "metadata": {
  "kernelspec": {
   "display_name": "Python 3",
   "language": "python",
   "name": "python3"
  },
  "language_info": {
   "codemirror_mode": {
    "name": "ipython",
    "version": 3
   },
   "file_extension": ".py",
   "mimetype": "text/x-python",
   "name": "python",
   "nbconvert_exporter": "python",
   "pygments_lexer": "ipython3",
   "version": "3.7.6"
  }
 },
 "nbformat": 4,
 "nbformat_minor": 4
}
